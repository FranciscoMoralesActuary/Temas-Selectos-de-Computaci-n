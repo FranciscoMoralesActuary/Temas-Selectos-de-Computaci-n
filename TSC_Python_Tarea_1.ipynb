{
  "nbformat": 4,
  "nbformat_minor": 0,
  "metadata": {
    "colab": {
      "provenance": []
    },
    "kernelspec": {
      "name": "python3",
      "display_name": "Python 3"
    },
    "language_info": {
      "name": "python"
    }
  },
  "cells": [
    {
      "cell_type": "markdown",
      "source": [
        "**Práctica de Python para Estudiantes de Licenciatura en Actuaría**\n",
        "\n",
        "**Objetivos:**\n",
        "- Practicar conceptos básicos de programación en Python.\n",
        "- Familiarizarse con el entorno de Google Colab.\n",
        "\n",
        "**Instrucciones:**\n",
        "1. Abre Google Colab (https://colab.research.google.com/) en tu navegador.\n",
        "2. Crea un nuevo notebook.\n",
        "3. Completa cada una de las secciones de código con las instrucciones proporcionadas.\n",
        "4. Ejecuta cada celda de código para ver los resultados.\n",
        "5. Responde a las preguntas planteadas en el ejercicio.\n",
        "\n",
        "**Ejercicio 1: Variables y Operadores**\n"
      ],
      "metadata": {
        "id": "cQXN7ya1oIHX"
      }
    },
    {
      "cell_type": "code",
      "source": [
        "# Asigna valores a las siguientes variables\n",
        "edad = 25\n",
        "ingreso_mensual = 3000\n",
        "gastos_mensuales = 2000\n",
        "\n",
        "# Calcula el ahorro mensual\n",
        "ahorro_mensual = ingreso_mensual - gastos_mensuales\n",
        "\n",
        "# Imprime el resultado\n",
        "print(\"El ahorro mensual es:\", ahorro_mensual)\n"
      ],
      "metadata": {
        "id": "tjCd7TlqoLPu"
      },
      "execution_count": null,
      "outputs": []
    },
    {
      "cell_type": "markdown",
      "source": [
        "**Ejercicio 2: Estructuras de Control**"
      ],
      "metadata": {
        "id": "uEwZCFtEoO0d"
      }
    },
    {
      "cell_type": "code",
      "source": [
        "# Escribe un programa que determine si un estudiante aprobó o no un examen\n",
        "# El estudiante aprueba si la calificación es mayor o igual a 60\n",
        "\n",
        "# Asigna la calificación del estudiante\n",
        "calificacion = 75\n",
        "\n",
        "# Escribe la estructura de control para determinar si aprobó o no\n",
        "if calificacion >= 60:\n",
        "    print(\"El estudiante ha aprobado el examen.\")\n",
        "else:\n",
        "    print(\"El estudiante no ha aprobado el examen.\")\n"
      ],
      "metadata": {
        "id": "6itdlARioRkV"
      },
      "execution_count": null,
      "outputs": []
    },
    {
      "cell_type": "markdown",
      "source": [
        "**Ejercicio 3: Funciones**"
      ],
      "metadata": {
        "id": "i3WUzuY4oUCA"
      }
    },
    {
      "cell_type": "code",
      "source": [
        "# Escribe una función que calcule el área de un círculo\n",
        "# La fórmula para calcular el área de un círculo es: área = pi * radio^2\n",
        "\n",
        "import math\n",
        "\n",
        "def calcular_area_circulo(radio):\n",
        "    area = math.pi * radio**2\n",
        "    return area\n",
        "\n",
        "# Prueba la función con un radio de 5 unidades\n",
        "radio = 5\n",
        "area_del_circulo = calcular_area_circulo(radio)\n",
        "print(\"El área del círculo con radio\", radio, \"es:\", area_del_circulo)\n"
      ],
      "metadata": {
        "id": "IfVgtdo4oVv7"
      },
      "execution_count": null,
      "outputs": []
    },
    {
      "cell_type": "markdown",
      "source": [
        "**Preguntas:**\n",
        "1. ¿Cuál es el ahorro mensual calculado en el Ejercicio 1 si los ingresos mensuales son \\$3,000 y los gastos mensuales son \\$2,000?\n",
        "2. ¿Qué mensaje imprime el programa en el Ejercicio 2 si la calificación del estudiante es 70?\n",
        "3. ¿Cuál es el área del círculo con un radio de 5 unidades según el Ejercicio 3?\n"
      ],
      "metadata": {
        "id": "obQYZ0QVoaoT"
      }
    }
  ]
}